{
 "cells": [
  {
   "cell_type": "code",
   "execution_count": 1,
   "id": "b7383015",
   "metadata": {},
   "outputs": [
    {
     "name": "stdout",
     "output_type": "stream",
     "text": [
      "5\n",
      "3\n",
      "87\n",
      "5678\n",
      "9876\n",
      "67890\n",
      "Min number: 3\n"
     ]
    }
   ],
   "source": [
    "a = []\n",
    "n = int(input())\n",
    "for i in range(0, n):\n",
    "    a.append(int(input()))\n",
    "min_a = len(a) + 1\n",
    "for i in range(0, n):\n",
    "    min_a = min(min_a, a[i])\n",
    "print(\"Min number:\", min_a)\n"
   ]
  },
  {
   "cell_type": "code",
   "execution_count": null,
   "id": "8bc6c828",
   "metadata": {},
   "outputs": [],
   "source": []
  }
 ],
 "metadata": {
  "kernelspec": {
   "display_name": "Python 3 (ipykernel)",
   "language": "python",
   "name": "python3"
  },
  "language_info": {
   "codemirror_mode": {
    "name": "ipython",
    "version": 3
   },
   "file_extension": ".py",
   "mimetype": "text/x-python",
   "name": "python",
   "nbconvert_exporter": "python",
   "pygments_lexer": "ipython3",
   "version": "3.11.0"
  }
 },
 "nbformat": 4,
 "nbformat_minor": 5
}
